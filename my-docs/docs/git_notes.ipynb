{
 "cells": [
  {
   "attachments": {},
   "cell_type": "markdown",
   "metadata": {},
   "source": [
    "## Git Notes\n",
    "Some pretty random git notes\n",
    "\n",
    "It is possible to make cross references, so [flowchart example](index.md#flowchart_example)  we have a flowchart example\n",
    "\n",
    "### Git - workspaces\n",
    "\n",
    "![Git storage](data/git_storage.png \"Git Storage setup\")"
   ]
  },
  {
   "attachments": {},
   "cell_type": "markdown",
   "metadata": {},
   "source": [
    "\n",
    "\n",
    "### Git - typical commands\n",
    "\n",
    "| Topic      | Command                                                   | Notes                                                                             |\n",
    "|------------|-----------------------------------------------------------|-----------------------------------------------------------------------------------|\n",
    "| config     | git config --list --show-origin                           | config with sourcepi                                                              |\n",
    "| remote     | git fetch -ap                                             | fetch updates from remote                                                         |\n",
    "|            | git merge origin/master                                   | merge with remote master                                                          |\n",
    "|            | git pull                                                  | \"git fetch\" followed by \"git merge origin/master\"                                 |\n",
    "|            | git push                                                  |                                                                                   |\n",
    "|            | git push -u origin ***branch name***                      | enable remote tracking of branch                                                  |\n",
    "|            | git push --set-upstream origin  ***branch name***         | enable remote tracking of branch                                                  |\n",
    "| commit     | git add ***files***                                       |                                                                                   |\n",
    "|            | git commit -m \"message\"                                   |                                                                                   |\n",
    "| tags       | git tag -a v1.0 -m \"comment\"                              | Add a tag to indicate version                                                     |\n",
    "| branch     | git checkout -b ***new branch name***                     | Create new branch and switch to it                                                |\n",
    "|            |                                                           | Remember git push --set-upstream origin ***new branch name*** if remote is needed |\n",
    "|            | git checkout -b ***new branch name*** ***tag***           | Create new branch starting from tagged version and switch to it                   |\n",
    "|            | git checkout ***branch name***                            | Switch to branch                                                                  |\n",
    "|            | git checkout -- ***file name***                           | Drop changes to files. Bare double dash stands for current branch.                |\n",
    "|            | git restore .                                             | Drop changes to files in current dir and sub dirs                                 |\n",
    "| merge      | git merge ***branch name***                               | Merge ***branch name*** with current branch                                       |\n",
    "|            | git merge --abort                                         | Roll back current merge attempt                                                   |\n",
    "| undo       | git checkout -- ***file***                                | replace file in working tree with file from staging/index                         |\n",
    "|            | git reset ***file***                                      | Unstage file, follow with git checkout -- ***file*** to  edit                     |\n",
    "|            | git reset HEAD~2 ***file***                               | Revert to HEAD-2 version of files in workspace, not in index                      |\n",
    "|            | git reset --soft HEAD~1                                   | Revert to HEAD-1 version of files keep changes in workspace and in in index       |\n",
    "|            | git reset HEAD~1                                          | Revert to HEAD-1 version of files keep changes in workspace                       |\n",
    "|            | git reset --hard HEAD~1                                   | Revert to HEAD-1 version of files drop changes                                    |\n",
    "|            | git reset -- ***file***                                   | Unstage ***file***                                                                |\n",
    "|            | git revert ***sha***                                      | Undo a specific commit                                                            |\n",
    "| log        | git log --all --decorate --oneline --graph                |                                                                                   |\n",
    "|            | git log --pretty=format:\"%h%x09%an%x09%ad%x09%s\"  --graph |                                                                                   |\n",
    "|            | gitk                                                      |                                                                                   |\n",
    "|            | git checkout                                              | Check out the current branch, shows tracking information                          |\n",
    "|            | git log --follow -- ***file name***                       |                                                                                   |\n",
    "| show       | git show                                                  |                                                                                   |\n",
    "| inspect    | git ls-files                                              |                                                                                   |\n",
    "|            | git cat-file                                              |                                                                                   |\n",
    "| submodules | git submodule status                                      | show hash of submodules                                                           |\n",
    "|            | git clone --recursive ***repo***                          |                                                                                   |\n",
    "|            | git submodule update --init                               |                                                                                   |\n",
    "|            | git fetch --recurse-submodules                            |                                                                                   |\n",
    "|            | git pull --recurse-submodules                             |                                                                                   |\n",
    "|            | git submodule add ***repo***                              |                                                                                   |"
   ]
  },
  {
   "attachments": {},
   "cell_type": "markdown",
   "metadata": {},
   "source": [
    "## A 'bare' repo is essenstially a repo wihtout a work space\n",
    "```\n",
    "git init --bare ~/repos/myproject.git\n",
    "cd /path/to/existing/repo\n",
    "git remote add origin ~/repos/myproject.git\n",
    "git push origin master\n",
    "git push --set-upstream origin master \n",
    "```"
   ]
  },
  {
   "cell_type": "markdown",
   "metadata": {},
   "source": [
    "***\n",
    "## Working with bundles and creating incremental bundles\n",
    "\n",
    "```\n",
    "git clone git@githubsrv:per11235813/python.git\n",
    "cd python\n",
    "git bundle create ..\\python01.bundle --branches --tags\n",
    "git tag -f lastR2bundle master\n",
    "# do some changes\n",
    "git bundle create ..\\python01_delta01.bundle lastR2bundle..master\n",
    "# do more changes\n",
    "git bundle create ..\\python01_delta02.bundle lastR2bundle..master\n",
    "git clone -b master python01.bundle python2 \n",
    "cd python2\n",
    "git bundle verify ..\\python01_delta02.bundle\n",
    "\n",
    "git remote add delta02 C:/Users/d6bqr00/Documents/repo/tmp/bundle/python01_delta02.bundle\n",
    "git merge delta02/master\n",
    "```"
   ]
  }
 ],
 "metadata": {
  "kernelspec": {
   "display_name": "Python 3.10.2 64-bit (system)",
   "language": "python",
   "name": "python3"
  },
  "language_info": {
   "codemirror_mode": {
    "name": "ipython",
    "version": 3
   },
   "file_extension": ".py",
   "mimetype": "text/x-python",
   "name": "python",
   "nbconvert_exporter": "python",
   "pygments_lexer": "ipython3",
   "version": "3.10.7"
  },
  "vscode": {
   "interpreter": {
    "hash": "91793c2b57c5ce7b91e46e4cc321ec6e78e46ffa28b1108ed63fd5fd2a4ed38a"
   }
  }
 },
 "nbformat": 4,
 "nbformat_minor": 4
}
